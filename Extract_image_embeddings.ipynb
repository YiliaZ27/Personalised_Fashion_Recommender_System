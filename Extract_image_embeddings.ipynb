{
 "cells": [
  {
   "cell_type": "code",
   "execution_count": null,
   "id": "bfb28b94",
   "metadata": {},
   "outputs": [],
   "source": [
    "import pandas as pd\n",
    "import numpy as np\n",
    "import os\n",
    "import glob\n",
    "import pickle\n",
    "import tensorflow\n",
    "from tensorflow.keras.preprocessing import image\n",
    "from tensorflow.keras.applications.resnet import ResNet152, preprocess_input\n",
    "from tensorflow.keras.applications import VGG19\n",
    "from tensorflow.keras.layers import GlobalMaxPooling2D\n",
    "from numpy.linalg import norm\n",
    "from sklearn.metrics.pairwise import pairwise_distances\n",
    "import tqdm\n"
   ]
  },
  {
   "cell_type": "code",
   "execution_count": null,
   "id": "81581db0",
   "metadata": {},
   "outputs": [],
   "source": [
    "# get image path and image name (article_id) from folders\n",
    "path = 'hm_data_path/images/*/*'\n",
    "def get_img_path_from_folder(folder_path):\n",
    "    file_paths = []\n",
    "    file_names = []\n",
    "    for filename in glob.glob(folder_path):\n",
    "        if filename.endswith(\".jpg\"):\n",
    "            file_paths.append(filename)\n",
    "            file_name = os.path.splitext(os.path.basename(filename))[0]\n",
    "            file_names.append(file_name)\n",
    "    return file_paths, file_names\n",
    "\n",
    "img_paths, img_names = get_img_path_from_folder(path)"
   ]
  },
  {
   "cell_type": "code",
   "execution_count": null,
   "id": "5150c4b3",
   "metadata": {},
   "outputs": [],
   "source": [
    "# extract image emebddings using pre-trained weights from ResNet-152 / VGG19\n",
    "def extract_embedding(img_path, algo='ResNet-152'):\n",
    "    if algo == 'ResNet-152':\n",
    "        model = ResNet152(weights='imagenet',include_top=False,input_shape=(224,224,3))\n",
    "    elif algo == 'VGG19':\n",
    "        model = VGG19(weights='imagenet',include_top=False,input_shape=(224,224,3))\n",
    "    model.trainable = False\n",
    "    model = tensorflow.keras.Sequential([\n",
    "        model,\n",
    "        GlobalMaxPooling2D()\n",
    "    ])\n",
    "\n",
    "    img = image.load_img(img_path,target_size=(224,224))\n",
    "    img_array = image.img_to_array(img)\n",
    "    expanded_img_array = np.expand_dims(img_array, axis=0)\n",
    "    preprocessed_img = preprocess_input(expanded_img_array)\n",
    "    result = model.predict(preprocessed_img).flatten()\n",
    "    normalized_result = result / norm(result)\n",
    "\n",
    "    return normalized_result\n",
    "\n"
   ]
  },
  {
   "cell_type": "code",
   "execution_count": null,
   "id": "e9e914ec",
   "metadata": {},
   "outputs": [],
   "source": [
    "def extract_similar(img_feat, metric = 'euclidean'):\n",
    "    top_sim = []\n",
    "    top_dist = []\n",
    "    for j in tqdm.tqdm(range(len(img_feat))):\n",
    "        eucl_dist = pairwise_distances(list(img_feat.img_embedding), img_feat.iloc[j,1].reshape(1,-1),metric=metric)\n",
    "        pdists  = np.sort(eucl_dist.flatten())[1]\n",
    "        indices = np.argsort(eucl_dist.flatten())[1]\n",
    "        top_sim.append(img_feat.iloc[indices].article_id)\n",
    "        top_dist.append(pdists) \n",
    "    \n",
    "    return top_sim, top_dist"
   ]
  },
  {
   "cell_type": "code",
   "execution_count": null,
   "id": "5c82efce",
   "metadata": {},
   "outputs": [],
   "source": [
    "embeddings = []\n",
    "for file in img_paths:\n",
    "    embeddings.append(extract_features(file,'ResNet-152'))\n",
    "img_feat = pd.DataFrame(img_names, columns=['article_id'])\n",
    "img_feat['article_id'] = [img_feat.article_id[i][1:] for i in range(len(img_feat.article_id))]\n",
    "img_feat['img_embedding'] = embeddings"
   ]
  },
  {
   "cell_type": "code",
   "execution_count": null,
   "id": "77f5aa4b",
   "metadata": {},
   "outputs": [],
   "source": [
    "top_sim, top_dist = extract_similar(img_feat, 'euclidean')\n",
    "img_feat['top_sim'] = top_sim\n",
    "img_feat['top_dist'] = top_dist\n",
    "img_feat.to_csv('path/file_name.csv')"
   ]
  },
  {
   "cell_type": "markdown",
   "id": "b85833b6",
   "metadata": {},
   "source": [
    "# Alibaba iFashion Dataset"
   ]
  },
  {
   "cell_type": "code",
   "execution_count": null,
   "id": "ef4ff917",
   "metadata": {},
   "outputs": [],
   "source": [
    "model = ResNet152(weights='imagenet',include_top=False,input_shape=(224,224,3))\n",
    "model.trainable = False\n",
    "\n",
    "model = tensorflow.keras.Sequential([\n",
    "    model,\n",
    "    GlobalMaxPooling2D()\n",
    "])\n",
    "\n",
    "def extract_features(img_path,model):\n",
    "    try:\n",
    "        url = get_file(fn,origin=img_path,extract=True)\n",
    "        img = image.load_img(url,target_size=(224,224))\n",
    "        os.remove(url)\n",
    "        img_array = image.img_to_array(img)\n",
    "        expanded_img_array = np.expand_dims(img_array, axis=0)\n",
    "        preprocessed_img = preprocess_input(expanded_img_array)\n",
    "        result = model.predict(preprocessed_img).flatten()\n",
    "        normalized_result = result / norm(result)\n",
    "    except:\n",
    "        normalized_result = np.nan\n",
    "    \n",
    "    return normalized_result"
   ]
  },
  {
   "cell_type": "code",
   "execution_count": null,
   "id": "cddf61a4",
   "metadata": {},
   "outputs": [],
   "source": [
    "ali_item = pd.read_csv('path/alibaba_data/item_data.txt',header=None,delimiter=',',on_bad_lines='skip',\n",
    "                      names=['item_id', 'cateID', 'imgLink', 'title'])\n",
    "# fix the wrong url links\n",
    "wrongurl = ali_item.imgLink.str.startswith('//')\n",
    "ali_item.loc[wrongurl, 'imgLink'] = 'http:' + ali_item.loc[wrongurl, 'imgLink']"
   ]
  },
  {
   "cell_type": "code",
   "execution_count": null,
   "id": "5a932053",
   "metadata": {},
   "outputs": [],
   "source": [
    "feature_list = []\n",
    "ali = ali_item.iloc[:430000,:].reset_index(drop=True)\n",
    "for i in tqdm.tqdm(range(len(ali))):\n",
    "    fn = f'img{i}'\n",
    "    feature_list.append(extract_features(ali.iloc[i,2],model))"
   ]
  },
  {
   "cell_type": "code",
   "execution_count": null,
   "id": "3d0f31ff",
   "metadata": {},
   "outputs": [],
   "source": [
    "pickle.dump(feature_list,open('path/ali_embeddings.pkl','wb'))"
   ]
  }
 ],
 "metadata": {
  "kernelspec": {
   "display_name": "Python 3 (ipykernel)",
   "language": "python",
   "name": "python3"
  },
  "language_info": {
   "codemirror_mode": {
    "name": "ipython",
    "version": 3
   },
   "file_extension": ".py",
   "mimetype": "text/x-python",
   "name": "python",
   "nbconvert_exporter": "python",
   "pygments_lexer": "ipython3",
   "version": "3.10.9"
  }
 },
 "nbformat": 4,
 "nbformat_minor": 5
}
